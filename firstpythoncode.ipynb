{
  "nbformat": 4,
  "nbformat_minor": 0,
  "metadata": {
    "colab": {
      "provenance": [],
      "authorship_tag": "ABX9TyMeJ7c/0VAAErBxngOa00Yp",
      "include_colab_link": true
    },
    "kernelspec": {
      "name": "python3",
      "display_name": "Python 3"
    },
    "language_info": {
      "name": "python"
    }
  },
  "cells": [
    {
      "cell_type": "markdown",
      "metadata": {
        "id": "view-in-github",
        "colab_type": "text"
      },
      "source": [
        "<a href=\"https://colab.research.google.com/github/pep611/python_basic/blob/main/firstpythoncode.ipynb\" target=\"_parent\"><img src=\"https://colab.research.google.com/assets/colab-badge.svg\" alt=\"Open In Colab\"/></a>"
      ]
    },
    {
      "cell_type": "code",
      "execution_count": null,
      "metadata": {
        "colab": {
          "base_uri": "https://localhost:8080/"
        },
        "id": "3mfxoL34j_uZ",
        "outputId": "1ba2a558-26f5-4274-a78c-4a7be577728d"
      },
      "outputs": [
        {
          "output_type": "stream",
          "name": "stdout",
          "text": [
            "The value of the variable is = Alice\n",
            "The data type is = <class 'str'>\n"
          ]
        }
      ],
      "source": [
        "name = \"Alice\"\n",
        "print(\"The value of the variable is =\", name)\n",
        "print(\"The data type is =\", type(name))"
      ]
    },
    {
      "cell_type": "code",
      "source": [
        "name_v2 = 'A'\n",
        "print(\"The value of the variable is =\", name_v2)\n",
        "print(\"The data type is =\", type(name_v2))"
      ],
      "metadata": {
        "colab": {
          "base_uri": "https://localhost:8080/"
        },
        "id": "uSS4dfV4k0TO",
        "outputId": "8e3a149c-436b-43dc-8a34-fa6a5e2ff6f9"
      },
      "execution_count": null,
      "outputs": [
        {
          "output_type": "stream",
          "name": "stdout",
          "text": [
            "The value of the variable is = A\n",
            "The data type is = <class 'str'>\n"
          ]
        }
      ]
    },
    {
      "cell_type": "code",
      "source": [
        "int_data = 2\n",
        "print(\"The value of the variable is =\", int_data)\n",
        "print(\"The data type is =\", type(int_data))"
      ],
      "metadata": {
        "colab": {
          "base_uri": "https://localhost:8080/"
        },
        "id": "psLvZsHflQZp",
        "outputId": "ae566863-4dbb-42d3-c34a-7c2c3f972843"
      },
      "execution_count": null,
      "outputs": [
        {
          "output_type": "stream",
          "name": "stdout",
          "text": [
            "The value of the variable is = 2\n",
            "The data type is = <class 'int'>\n"
          ]
        }
      ]
    },
    {
      "cell_type": "code",
      "source": [
        "float_data = 2.0\n",
        "print(\"The value of the variable is =\", float_data)\n",
        "print(\"The data type is =\", type(float_data))"
      ],
      "metadata": {
        "colab": {
          "base_uri": "https://localhost:8080/"
        },
        "id": "VunslDb4lneH",
        "outputId": "c935b586-2b7f-4248-ff73-ca4855d79933"
      },
      "execution_count": null,
      "outputs": [
        {
          "output_type": "stream",
          "name": "stdout",
          "text": [
            "The value of the variable is = 2.0\n",
            "The data type is = <class 'float'>\n"
          ]
        }
      ]
    },
    {
      "cell_type": "code",
      "source": [
        "boolean_data = False\n",
        "print(\"The value of the variable is =\", boolean_data)\n",
        "print(\"The data type is =\", type(boolean_data))"
      ],
      "metadata": {
        "colab": {
          "base_uri": "https://localhost:8080/"
        },
        "id": "lzRYkQugmBj5",
        "outputId": "d8c9ce98-500d-486a-84e3-002d3f4aa2ab"
      },
      "execution_count": null,
      "outputs": [
        {
          "output_type": "stream",
          "name": "stdout",
          "text": [
            "The value of the variable is = False\n",
            "The data type is = <class 'bool'>\n"
          ]
        }
      ]
    },
    {
      "cell_type": "code",
      "source": [
        "list_data = [1,2,3]\n",
        "print(\"The value of the variable is =\", list_data)\n",
        "print(\"The data type is =\", type(list_data))"
      ],
      "metadata": {
        "colab": {
          "base_uri": "https://localhost:8080/"
        },
        "id": "ioRclLGImXMA",
        "outputId": "23284945-a157-48d7-ef85-e1dc28a44990"
      },
      "execution_count": null,
      "outputs": [
        {
          "output_type": "stream",
          "name": "stdout",
          "text": [
            "The value of the variable is = [1, 2, 3]\n",
            "The data type is = <class 'list'>\n"
          ]
        }
      ]
    },
    {
      "cell_type": "code",
      "source": [
        "dict_data = {'name': 'Alice', 'Age': 25, 'Height': 175.0}\n",
        "print(\"The value of the variable is =\", dict_data)\n",
        "print(\"The data type is =\", type(dict_data))\n",
        "print(\"The name is =\", dict_data.get(\"name\"))\n",
        "print(\"The name is =\", dict_data[\"name\"])\n",
        "print(\"The data type of name is =\", type(dict_data[\"name\"]))\n",
        "print(\"The data type of name is =\", type(dict_data[\"Age\"]))\n",
        "print(\"The data type of name is =\", type(dict_data[\"Height\"]))"
      ],
      "metadata": {
        "colab": {
          "base_uri": "https://localhost:8080/"
        },
        "id": "hvFbjVK-mv1u",
        "outputId": "4a7cad83-419c-4be1-bc77-9d492da3f669"
      },
      "execution_count": null,
      "outputs": [
        {
          "output_type": "stream",
          "name": "stdout",
          "text": [
            "The value of the variable is = {'name': 'Alice', 'Age': 25, 'Height': 175.0}\n",
            "The data type is = <class 'dict'>\n",
            "The name is = Alice\n",
            "The name is = Alice\n",
            "The data type of name is = <class 'str'>\n",
            "The data type of name is = <class 'int'>\n",
            "The data type of name is = <class 'float'>\n"
          ]
        }
      ]
    },
    {
      "cell_type": "code",
      "source": [
        "your_name = input(\"Please enter full name\")\n",
        "print(\"Hello\", your_name, \"Welcome to Python\")"
      ],
      "metadata": {
        "colab": {
          "base_uri": "https://localhost:8080/"
        },
        "id": "1ZBe3v4gp4n0",
        "outputId": "64c8952d-8249-4422-faf7-0fb2a70c15bd"
      },
      "execution_count": null,
      "outputs": [
        {
          "output_type": "stream",
          "name": "stdout",
          "text": [
            "Please enter full nameBhanuprasad Ailavarapu\n",
            "Hello Bhanuprasad Ailavarapu Welcome to Python\n"
          ]
        }
      ]
    },
    {
      "cell_type": "code",
      "source": [
        "num1 = 5\n",
        "num2 = 4\n",
        "print(\"Remainder =\", num1%num2)\n",
        "print(\"Floor =\", num1//num2)\n",
        "print(\"Division =\", num1/num2)\n",
        "print(\"Exponent =\", num1**num2)\n",
        "print(num1 > num2)\n",
        "print(num1 < num2)\n",
        "print(num1 > num2 or num1 < num2)\n",
        "print(num1 > num2 and num1 < num2)\n",
        "print(num1 != num2)\n",
        "print(not num1 > 0)"
      ],
      "metadata": {
        "colab": {
          "base_uri": "https://localhost:8080/"
        },
        "id": "UtwDUJSUrHro",
        "outputId": "a580316c-db7a-4bd2-c846-c296ab202893"
      },
      "execution_count": null,
      "outputs": [
        {
          "output_type": "stream",
          "name": "stdout",
          "text": [
            "Remainder = 1\n",
            "Floor = 1\n",
            "Division = 1.25\n",
            "Exponent = 625\n",
            "True\n",
            "False\n",
            "True\n",
            "False\n",
            "True\n",
            "False\n"
          ]
        }
      ]
    },
    {
      "cell_type": "code",
      "source": [
        "num1 = input(\"Please enter the first number\")\n",
        "num2 = input(\"Please enter the second number\")\n",
        "\n",
        "num1_int = int(num1)\n",
        "num2_int = int(num2)\n",
        "\n",
        "print(\"Type of data =\", type(num1_int))\n",
        "print(\"Type of data =\", type(num2_int))\n",
        "\n",
        "print(\"Sum of num1 and num2 =\", num1_int + num2_int)\n",
        "print(\"Difference of num1 and num2 =\", num1_int - num2_int)\n",
        "print(\"Product of num1 and num2 =\", num1_int * num2_int)\n",
        "print(\"Division of num1 and num2 =\", num1_int // num2_int)"
      ],
      "metadata": {
        "colab": {
          "base_uri": "https://localhost:8080/"
        },
        "id": "8tG5dVFJGnTo",
        "outputId": "1db372b3-00e1-4652-9179-bdf1518a7d65"
      },
      "execution_count": null,
      "outputs": [
        {
          "output_type": "stream",
          "name": "stdout",
          "text": [
            "Please enter the first number4\n",
            "Please enter the second number3\n",
            "Type of data = <class 'int'>\n",
            "Type of data = <class 'int'>\n",
            "Sum of num1 and num2 = 7\n",
            "Difference of num1 and num2 = 1\n",
            "Product of num1 and num2 = 12\n",
            "Division of num1 and num2 = 1\n"
          ]
        }
      ]
    },
    {
      "cell_type": "code",
      "source": [
        "temp = 8\n",
        "\n",
        "if temp > 25:\n",
        "  print(\"It is too hot today\")\n",
        "elif temp < 10:\n",
        "  print(\"It is too cold today\")\n",
        "else:\n",
        "  print(\"It is normal today\")"
      ],
      "metadata": {
        "colab": {
          "base_uri": "https://localhost:8080/"
        },
        "id": "t2sEZR7QI7ss",
        "outputId": "4b4244f3-28f7-4690-8c41-0d54615b1550"
      },
      "execution_count": null,
      "outputs": [
        {
          "output_type": "stream",
          "name": "stdout",
          "text": [
            "It is too cold today\n"
          ]
        }
      ]
    },
    {
      "cell_type": "code",
      "source": [
        "list1 = [1, 3, 5, 7, 8]\n",
        "i = 3\n",
        "while i < 5:\n",
        "  print(\"The value of item is =\",list1[i])\n",
        "  print(\"The value of i in this iteration is =\", i)\n",
        "  i = i + 1"
      ],
      "metadata": {
        "id": "DDvoWslOJyfi",
        "colab": {
          "base_uri": "https://localhost:8080/"
        },
        "outputId": "15428689-0442-4489-93b4-a45ba677c08a"
      },
      "execution_count": null,
      "outputs": [
        {
          "output_type": "stream",
          "name": "stdout",
          "text": [
            "The value of item is = 7\n",
            "The value of i in this iteration is = 3\n",
            "The value of item is = 8\n",
            "The value of i in this iteration is = 4\n"
          ]
        }
      ]
    },
    {
      "cell_type": "code",
      "source": [
        "def print_name(name):\n",
        "  print(\"The name is =\", name)\n",
        "\n",
        "print_name(\"Bhanuprasad\")"
      ],
      "metadata": {
        "id": "XvAJPOEIMnxA",
        "colab": {
          "base_uri": "https://localhost:8080/"
        },
        "outputId": "0ef958a9-ff76-4918-cd7f-34a063e38927"
      },
      "execution_count": 32,
      "outputs": [
        {
          "output_type": "stream",
          "name": "stdout",
          "text": [
            "The name is = Bhanuprasad\n"
          ]
        }
      ]
    },
    {
      "cell_type": "code",
      "source": [
        "def sum_of_num(a, b):\n",
        "  sum = a + b\n",
        "  return sum\n",
        "\n",
        "num1 = 5\n",
        "num2 = 7\n",
        "\n",
        "print(\"The sum of \", num1, \" and \", num2, \" is =\", sum_of_num(num1, num2))"
      ],
      "metadata": {
        "colab": {
          "base_uri": "https://localhost:8080/"
        },
        "id": "tjPCzNoVNk_Z",
        "outputId": "8c71236a-3847-48e3-d644-4667d01dbec8"
      },
      "execution_count": 34,
      "outputs": [
        {
          "output_type": "stream",
          "name": "stdout",
          "text": [
            "The sum of  5  and  7  is = 12\n"
          ]
        }
      ]
    },
    {
      "cell_type": "code",
      "source": [
        "a = 2\n",
        "def print_function(x):\n",
        "  global new_var\n",
        "  new_var = a\n",
        "  print(x)\n",
        "\n",
        "print_function(\"Test\")\n",
        "print(new_var)"
      ],
      "metadata": {
        "colab": {
          "base_uri": "https://localhost:8080/"
        },
        "id": "jkabKpMNO8ds",
        "outputId": "fc7412ac-51a1-44ec-d1c4-f5d23edc1190"
      },
      "execution_count": 39,
      "outputs": [
        {
          "output_type": "stream",
          "name": "stdout",
          "text": [
            "Test\n",
            "2\n"
          ]
        }
      ]
    },
    {
      "cell_type": "code",
      "source": [
        "def divide(a, b):\n",
        "  try:\n",
        "    return a/b\n",
        "  except ZeroDivisionError:\n",
        "    print(\"Cannot divide by zero!\")\n",
        "    return None\n",
        "\n",
        "result = divide(10, 0)\n",
        "print(result) # None"
      ],
      "metadata": {
        "colab": {
          "base_uri": "https://localhost:8080/"
        },
        "id": "QPiLEDzGQzkB",
        "outputId": "3d7d1e8e-fe7b-4d58-fe8f-bde0109ff4bf"
      },
      "execution_count": 40,
      "outputs": [
        {
          "output_type": "stream",
          "name": "stdout",
          "text": [
            "Cannot divide by zero!\n",
            "None\n"
          ]
        }
      ]
    }
  ]
}